{
 "cells": [
  {
   "cell_type": "code",
   "execution_count": 91,
   "id": "2fcf7c2d",
   "metadata": {},
   "outputs": [],
   "source": [
    "from selenium import webdriver"
   ]
  },
  {
   "cell_type": "code",
   "execution_count": 92,
   "id": "2d9b411a",
   "metadata": {},
   "outputs": [],
   "source": [
    "from selenium.webdriver.common.keys import Keys"
   ]
  },
  {
   "cell_type": "code",
   "execution_count": 101,
   "id": "d293aef4",
   "metadata": {},
   "outputs": [],
   "source": [
    "import time"
   ]
  },
  {
   "cell_type": "code",
   "execution_count": 94,
   "id": "1d7a1422",
   "metadata": {},
   "outputs": [],
   "source": [
    "from selenium.webdriver.common.by import By"
   ]
  },
  {
   "cell_type": "code",
   "execution_count": 95,
   "id": "534fa19d",
   "metadata": {},
   "outputs": [],
   "source": [
    "from selenium.webdriver.chrome.service import Service"
   ]
  },
  {
   "cell_type": "code",
   "execution_count": 300,
   "id": "ac264346",
   "metadata": {},
   "outputs": [],
   "source": [
    "driver = webdriver.Chrome()\n",
    "driver.get(\"https://www.latamairlines.com/\")\n",
    "driver.set_window_size(1366, 708)\n",
    "\n",
    "time.sleep(2)\n",
    "\n",
    "#Ciudad Origen\n",
    "corigen = driver.find_element(By.XPATH, '//*[@id=\"txtInputOrigin_field\"]').send_keys()\n",
    "corigen = cl\n",
    "\n",
    "#Ciudad Destino\n",
    "cdestino = driver.find_element(By.XPATH, '//*[@id=\"txtInputDestination_field\"]').send_keys(\"Cartagena de Indias, CTG - Colombia\", Keys.TAB)"
   ]
  },
  {
   "cell_type": "code",
   "execution_count": 301,
   "id": "72bd673e",
   "metadata": {},
   "outputs": [],
   "source": [
    "elemento_input = driver.find_element(By.XPATH,'//*[@id=\"departureDate\"]').click()\n",
    "\n",
    "mes_ida = \"octubre\"\n",
    "day_ida = \"6\"\n",
    "\n",
    "mes_vuelta = \"octubre\"\n",
    "day_vuelta = \"11\"\n",
    "\n",
    "#Fecha ida click 1\n",
    "ida = driver.find_element(By.XPATH, '//div[contains(strong, \"'+mes_ida+'\")]/following-sibling::table//td[span[text()=\"'+day_ida+'\"]]')\n",
    "ida.click()\n",
    "\n",
    "#Fecha vuvelta clikc 2\n",
    "vuelta = driver.find_element(By.XPATH, '//div[contains(strong, \"'+mes_vuelta+'\")]/following-sibling::table//td[span[text()=\"'+day_vuelta+'\"]]')\n",
    "vuelta.click()\n",
    "    "
   ]
  },
  {
   "cell_type": "code",
   "execution_count": 302,
   "id": "83b345e0",
   "metadata": {},
   "outputs": [],
   "source": [
    "boton_buscar = driver.find_element(By.XPATH, '//*[@id=\"btnSearchCTA\"]')\n",
    "boton_buscar.click()\n",
    "time.sleep(7)"
   ]
  },
  {
   "cell_type": "code",
   "execution_count": 285,
   "id": "dd26860f",
   "metadata": {},
   "outputs": [],
   "source": [
    "select = driver.find_element(By.XPATH, '//*[@id=\"CenterWrapperBodyFlights\"]/ol/li[1]')\n",
    "select.click()"
   ]
  },
  {
   "cell_type": "code",
   "execution_count": 275,
   "id": "b4ad8676",
   "metadata": {},
   "outputs": [],
   "source": []
  },
  {
   "cell_type": "code",
   "execution_count": null,
   "id": "a070a6bc",
   "metadata": {},
   "outputs": [],
   "source": []
  }
 ],
 "metadata": {
  "kernelspec": {
   "display_name": "Python 3 (ipykernel)",
   "language": "python",
   "name": "python3"
  },
  "language_info": {
   "codemirror_mode": {
    "name": "ipython",
    "version": 3
   },
   "file_extension": ".py",
   "mimetype": "text/x-python",
   "name": "python",
   "nbconvert_exporter": "python",
   "pygments_lexer": "ipython3",
   "version": "3.11.4"
  }
 },
 "nbformat": 4,
 "nbformat_minor": 5
}
