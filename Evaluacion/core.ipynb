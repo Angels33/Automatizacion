{
 "cells": [
  {
   "cell_type": "code",
   "execution_count": 57,
   "id": "2fcf7c2d",
   "metadata": {},
   "outputs": [],
   "source": [
    "from selenium import webdriver\n",
    "from selenium.webdriver.chrome.service import Service\n",
    "from selenium.webdriver.chrome.options import Options\n",
    "from selenium.webdriver.common.by import By\n",
    "from selenium.webdriver.common.keys import Keys\n",
    "from selenium.webdriver.support.ui import WebDriverWait\n",
    "from selenium.webdriver.support import expected_conditions as EC\n",
    "import time"
   ]
  },
  {
   "cell_type": "code",
   "execution_count": 58,
   "id": "ac264346",
   "metadata": {},
   "outputs": [],
   "source": [
    "driver = webdriver.Chrome()\n",
    "driver.get(\"https://www.latamairlines.com/\")\n",
    "driver.set_window_size(1366, 708)\n",
    "time.sleep(5)"
   ]
  },
  {
   "cell_type": "code",
   "execution_count": 59,
   "id": "5831f1b5-3d66-4e28-bfa2-2a068904d2d7",
   "metadata": {},
   "outputs": [],
   "source": [
    "#Ciudad Origen\n",
    "corigen = driver.find_element(By.XPATH, '//*[@id=\"txtInputOrigin_field\"]').send_keys(\"Cali, CLO - Colombia\")\n",
    "driver.find_element(By.XPATH, '//*[@id=\"btnItemAutoComplete_0\"]').click()\n",
    "\n",
    "#Ciudad Destino\n",
    "cdestino = driver.find_element(By.XPATH, '//*[@id=\"txtInputDestination_field\"]').send_keys(\"Cartagena de Indias, CTG - Colombia\")\n",
    "driver.find_element(By.XPATH, '//*[@id=\"btnItemAutoComplete_0\"]').click()\n",
    "#cdestino.click()"
   ]
  },
  {
   "cell_type": "code",
   "execution_count": 60,
   "id": "72bd673e",
   "metadata": {},
   "outputs": [],
   "source": [
    "elemento_input = driver.find_element(By.XPATH,'//*[@id=\"departureDate\"]').click()\n",
    "\n",
    "mes_ida = \"septiembre\"\n",
    "day_ida = \"11\"\n",
    "\n",
    "mes_vuelta = \"septiembre\"\n",
    "day_vuelta = \"16\"\n",
    "\n",
    "#Fecha ida click 1\n",
    "ida = driver.find_element(By.XPATH, '//div[contains(strong, \"'+mes_ida+'\")]/following-sibling::table//td[span[text()=\"'+day_ida+'\"]]')\n",
    "ida.click()\n",
    "\n",
    "#Fecha vuvelta clikc 2\n",
    "vuelta = driver.find_element(By.XPATH, '//div[contains(strong, \"'+mes_vuelta+'\")]/following-sibling::table//td[span[text()=\"'+day_vuelta+'\"]]')\n",
    "vuelta.click()\n",
    "    "
   ]
  },
  {
   "cell_type": "code",
   "execution_count": 61,
   "id": "83b345e0",
   "metadata": {},
   "outputs": [],
   "source": [
    "boton_buscar = driver.find_element(By.XPATH, '//*[@id=\"btnSearchCTA\"]')\n",
    "boton_buscar.click()\n",
    "time.sleep(7)"
   ]
  },
  {
   "cell_type": "code",
   "execution_count": 63,
   "id": "dd26860f",
   "metadata": {},
   "outputs": [],
   "source": [
    "# Cambiar al controlador de ventana de la segunda pestaña\n",
    "driver.switch_to.window(driver.window_handles[1])\n",
    "\n",
    "element_present = EC.presence_of_element_located((By.XPATH, '//*[@id=\"CenterWrapperBodyFlights\"]/ol/li[1]'))\n",
    "WebDriverWait(driver, 60).until(element_present)\n",
    "\n",
    "select = driver.find_element(By.XPATH, '//*[@id=\"CenterWrapperBodyFlights\"]/ol/li[1]')\n",
    "select.click()"
   ]
  },
  {
   "cell_type": "code",
   "execution_count": 275,
   "id": "b4ad8676",
   "metadata": {},
   "outputs": [],
   "source": [
    "\n",
    "\n",
    "class testsuite:\n",
    "    def caso1:\n",
    "        setup()\n",
    "        theapp()\n",
    "\n",
    "    def caso2:\n",
    "        setUp()\n",
    "        theapp()\n",
    "\n",
    "    def caso2:\n",
    "        setUp()\n",
    "        theapp()\n",
    "    "
   ]
  },
  {
   "cell_type": "code",
   "execution_count": null,
   "id": "a070a6bc",
   "metadata": {},
   "outputs": [],
   "source": []
  }
 ],
 "metadata": {
  "kernelspec": {
   "display_name": "Python 3 (ipykernel)",
   "language": "python",
   "name": "python3"
  },
  "language_info": {
   "codemirror_mode": {
    "name": "ipython",
    "version": 3
   },
   "file_extension": ".py",
   "mimetype": "text/x-python",
   "name": "python",
   "nbconvert_exporter": "python",
   "pygments_lexer": "ipython3",
   "version": "3.10.7"
  }
 },
 "nbformat": 4,
 "nbformat_minor": 5
}
